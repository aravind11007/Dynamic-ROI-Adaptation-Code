{
 "cells": [
  {
   "cell_type": "code",
   "execution_count": 1,
   "id": "db07aa33",
   "metadata": {},
   "outputs": [],
   "source": [
    "import numpy as np\n",
    "import torch.nn as nn\n",
    "import torch\n",
    "import pytorch_lightning as pl\n",
    "import cv2\n",
    "import matplotlib.pyplot as plt\n",
    "import torchvision\n",
    "import torch.nn.functional as F"
   ]
  },
  {
   "cell_type": "markdown",
   "id": "b20ec2b6",
   "metadata": {},
   "source": [
    "# Encoder 8"
   ]
  },
  {
   "cell_type": "code",
   "execution_count": 2,
   "id": "b62c0059",
   "metadata": {},
   "outputs": [],
   "source": [
    "class Seg_Model(nn.Module):\n",
    "    def __init__(self):\n",
    "        super().__init__()\n",
    "        \n",
    "        self.conv=nn.Conv2d(3,768,kernel_size=16,stride=16)\n",
    "        self.position=nn.Parameter(torch.randn(1,196,768))\n",
    "        encoder_layer = nn.TransformerEncoderLayer(d_model=768, nhead=8, batch_first=True)\n",
    "        self.transformer_model=nn.TransformerEncoder(encoder_layer, num_layers=8)\n",
    "        self.up1=nn.Conv2d(768,256,kernel_size=3,padding=1)\n",
    "        self.up2=nn.Conv2d(256,256,kernel_size=3,padding=1)\n",
    "        self.up3=nn.Conv2d(256,256,kernel_size=3,padding=1)\n",
    "        self.up4=nn.Conv2d(256,4,kernel_size=3,padding=1)\n",
    "    def forward(self,x):\n",
    "        x=self.conv(x)\n",
    "        b,e,_,_=x.shape\n",
    "        x=x.view(b,e,-1)\n",
    "        x=x.permute(0,2,1)\n",
    "        x=x+self.position\n",
    "        x=self.transformer_model(x)\n",
    "        b,seq,e=x.shape\n",
    "        h,w=int(224/16),int(224/16)\n",
    "        x=x.reshape(b,h,w,e)\n",
    "        \n",
    "        x=x.permute(0,3,1,2)\n",
    "        \n",
    "        x=nn.Upsample(scale_factor=2,mode='bilinear')(x)\n",
    "        x=self.up1(x)\n",
    "        \n",
    "        x=nn.Upsample(scale_factor=2,mode='bilinear')(x)\n",
    "        x=self.up2(x)\n",
    "        \n",
    "        x=nn.Upsample(scale_factor=2,mode='bilinear')(x)\n",
    "        x=self.up3(x)\n",
    "        \n",
    "        x=nn.Upsample(scale_factor=2,mode='bilinear')(x)\n",
    "        x=self.up4(x)\n",
    "        \n",
    "        return x"
   ]
  },
  {
   "cell_type": "code",
   "execution_count": 3,
   "id": "17086183",
   "metadata": {},
   "outputs": [],
   "source": [
    "class Baby_skin(pl.LightningModule):\n",
    "    def __init__(self):\n",
    "        super().__init__()\n",
    "        self.model=Seg_Model()\n",
    "        self.loss_fun=nn.CrossEntropyLoss()\n",
    "        self.optimizer=torch.optim.Adam(self.model.parameters(),lr=1e-4)\n",
    "        \n",
    "    def forward(self,x):\n",
    "        x=self.model(x)\n",
    "        return x\n",
    "    def training_step(self,batch,batch_index):\n",
    "        img,mask=batch\n",
    "        pred=self(img)\n",
    "        mask=mask[:,0,:,:]\n",
    "        \n",
    "        loss=self.loss_fun(pred,mask)\n",
    "        pred=torch.argmax(pred,dim=1)\n",
    "        \n",
    "        train_acc=(pred==mask).sum()/(mask.numel())\n",
    "        \n",
    "        self.log('Training_loss',loss)\n",
    "        self.log('Training_acc',train_acc)\n",
    "        return loss\n",
    "        \n",
    "    def validation_step(self,batch,batch_indx):\n",
    "        img,mask=batch\n",
    "        pred=self(img)\n",
    "        mask=mask[:,0,:,:]\n",
    "        \n",
    "        loss=self.loss_fun(pred,mask)\n",
    "        \n",
    "        pred=torch.argmax(pred,dim=1)\n",
    "        \n",
    "        val_acc=(pred==mask).sum()/(mask.numel())\n",
    "        \n",
    "        self.log('Validation_loss',loss)\n",
    "        self.log('Val_acc',val_acc)\n",
    "        return loss\n",
    "    \n",
    "    def configure_optimizers(self):\n",
    "        return [self.optimizer]"
   ]
  },
  {
   "cell_type": "code",
   "execution_count": 4,
   "id": "972cd4a2",
   "metadata": {},
   "outputs": [],
   "source": [
    "class decoder_seg(nn.Module):\n",
    "    def __init__(self):\n",
    "        super().__init__()\n",
    "        self.conv1=nn.Conv2d(512,512,kernel_size=3,padding=1)\n",
    "        self.conv2=nn.Conv2d(512,512,kernel_size=3,padding=1)\n",
    "        self.conv3=nn.Conv2d(512,512,kernel_size=3,padding=1)\n",
    "        self.conv4=nn.Conv2d(512,256,kernel_size=3,padding=1)\n",
    "        self.conv5=nn.Conv2d(256,256,kernel_size=3,padding=1)\n",
    "        self.conv6=nn.Conv2d(256,128,kernel_size=3,padding=1)\n",
    "        self.conv7=nn.Conv2d(128,128,kernel_size=3,padding=1)\n",
    "        self.conv8=nn.Conv2d(128,64,kernel_size=3,padding=1)\n",
    "        self.conv9=nn.Conv2d(64,64,kernel_size=3,padding=1)\n",
    "        self.conv10=nn.Conv2d(64,4,kernel_size=3,padding=1)\n",
    "        self.relu=nn.ReLU()\n",
    "\n",
    "    def forward(self,x):\n",
    "        x=F.interpolate(x, scale_factor=2)\n",
    "        x=self.relu(self.conv1(x))\n",
    "        x=self.relu(self.conv2(x))\n",
    "        x=F.interpolate(x,scale_factor=2)\n",
    "        x=self.relu(self.conv3(x))\n",
    "        x=self.relu(self.conv4(x))\n",
    "        x=F.interpolate(x,scale_factor=2)\n",
    "        x=self.relu(self.conv5(x))\n",
    "        x=self.relu(self.conv6(x))\n",
    "        x=F.interpolate(x,scale_factor=2)\n",
    "        x=self.relu(self.conv7(x))\n",
    "        x=self.relu(self.conv8(x))\n",
    "        x=F.interpolate(x,scale_factor=2)\n",
    "        x=self.relu(self.conv9(x))\n",
    "        x=self.conv10(x)\n",
    "        \n",
    "        return x\n",
    "    "
   ]
  },
  {
   "cell_type": "code",
   "execution_count": 5,
   "id": "6a5a4f2c",
   "metadata": {},
   "outputs": [],
   "source": [
    "class Baby_skin(pl.LightningModule):\n",
    "    def __init__(self):\n",
    "        super().__init__()\n",
    "        model=torchvision.models.vgg13(weights=torchvision.models.VGG13_Weights)\n",
    "        self.encoder_seg=nn.Sequential(*list(model.children())[0])\n",
    "        self.decoder_seg=decoder_seg()\n",
    "        self.loss_fun=nn.CrossEntropyLoss()\n",
    "        self.optimizer=torch.optim.Adam(self.decoder_seg.parameters(),lr=1e-4)\n",
    "        \n",
    "    def forward(self,x):\n",
    "        x=self.encoder_seg(x)\n",
    "        x=self.decoder_seg(x)\n",
    "        return x\n",
    "    def training_step(self,batch,batch_index):\n",
    "        img,mask=batch\n",
    "        pred=self(img)\n",
    "        mask=mask[:,0,:,:]\n",
    "        \n",
    "        loss=self.loss_fun(pred,mask)\n",
    "        pred=torch.argmax(pred,dim=1)\n",
    "        \n",
    "        train_acc=(pred==mask).sum()/(mask.numel())\n",
    "        \n",
    "        self.log('Training_loss',loss)\n",
    "        self.log('Training_acc',train_acc)\n",
    "        return loss\n",
    "        \n",
    "    def validation_step(self,batch,batch_indx):\n",
    "        img,mask=batch\n",
    "        pred=self(img)\n",
    "        mask=mask[:,0,:,:]\n",
    "        \n",
    "        loss=self.loss_fun(pred,mask)\n",
    "        \n",
    "        pred=torch.argmax(pred,dim=1)\n",
    "        \n",
    "        val_acc=(pred==mask).sum()/(mask.numel())\n",
    "        \n",
    "        self.log('Validation_loss',loss)\n",
    "        self.log('Val_acc',val_acc)\n",
    "        return loss\n",
    "    \n",
    "    def configure_optimizers(self):\n",
    "        return [self.optimizer]"
   ]
  },
  {
   "cell_type": "code",
   "execution_count": 6,
   "id": "9ec6d815",
   "metadata": {},
   "outputs": [
    {
     "name": "stderr",
     "output_type": "stream",
     "text": [
      "C:\\ProgramData\\Anaconda3\\lib\\site-packages\\torchvision\\models\\_utils.py:223: UserWarning: Arguments other than a weight enum or `None` for 'weights' are deprecated since 0.13 and may be removed in the future. The current behavior is equivalent to passing `weights=VGG13_Weights.IMAGENET1K_V1`. You can also use `weights=VGG13_Weights.DEFAULT` to get the most up-to-date weights.\n",
      "  warnings.warn(msg)\n"
     ]
    }
   ],
   "source": [
    "model=Baby_skin.load_from_checkpoint(r'C:\\Users\\PhysioSens\\Desktop\\python-jupyter\\ubfc_seg\\mix\\logs\\lightning_logs\\version_9\\checkpoints\\epoch=72-step=16352.ckpt')\n",
    "model=model.to('cuda')\n",
    "model=model.eval()"
   ]
  },
  {
   "cell_type": "code",
   "execution_count": 7,
   "id": "a9a23a9c",
   "metadata": {},
   "outputs": [
    {
     "data": {
      "text/plain": [
       "\"\\ndef best_contour(contours):\\n    Area = [cv2.contourArea(contour) for contour in contours]\\n    return contours[np.argmax(Area)]\\n\\n\\n\\ndef view_img(img, mask):\\n    for i in range(1, 4):\\n        new_mask = np.zeros_like(mask)\\n        new_mask[mask == i] = 255\\n        new_mask = np.uint8(new_mask)\\n        new_mask = cv2.resize(new_mask, (640, 480))\\n        contours, _ = cv2.findContours(new_mask, cv2.RETR_EXTERNAL, cv2.CHAIN_APPROX_SIMPLE)\\n        \\n        if len(contours) > 1:\\n            contour = best_contour(contours)\\n            print('more than one', type(contour))\\n            img = cv2.drawContours(img, [contour], -1, color[i], 3)\\n        else:\\n            print(type(contours))\\n            img = cv2.drawContours(img, contours, -1, color[i], 3)\\n    return img\\n\""
      ]
     },
     "execution_count": 7,
     "metadata": {},
     "output_type": "execute_result"
    }
   ],
   "source": [
    "def cuda_img(img):\n",
    "    img=cv2.resize(img,(224,224))\n",
    "    img=np.transpose(img,(2,0,1))\n",
    "    img=img/255\n",
    "    img=torch.tensor(img)\n",
    "    img=img.float()\n",
    "    img=img.unsqueeze(0)\n",
    "    img=img.to('cuda')\n",
    "    return img\n",
    "\n",
    "def best_contour(contours):\n",
    "    Area=[]\n",
    "    for contour in contours:\n",
    "        Area.append(cv2.contourArea(contour))\n",
    "    return contours[np.argmax(Area)]\n",
    "def view_img(img,mask):\n",
    "    for i in range(1,4):\n",
    "        new_mask=np.zeros_like(mask)\n",
    "        new_mask[mask==i]=255\n",
    "        new_mask=np.uint8(new_mask)\n",
    "        new_mask=cv2.resize(new_mask,(640,480))\n",
    "        contour,_=cv2.findContours(new_mask,cv2.RETR_EXTERNAL,cv2.CHAIN_APPROX_SIMPLE)\n",
    "        if len(contour)>1:\n",
    "            contour=best_contour(contour)\n",
    "            img=cv2.drawContours(img,[contour],-1,color[i],2)\n",
    "        else:\n",
    "            img=cv2.drawContours(img,contour,-1,color[i],2)\n",
    "    return img\n",
    "\n",
    "'''\n",
    "def best_contour(contours):\n",
    "    Area = [cv2.contourArea(contour) for contour in contours]\n",
    "    return contours[np.argmax(Area)]\n",
    "\n",
    "\n",
    "\n",
    "def view_img(img, mask):\n",
    "    for i in range(1, 4):\n",
    "        new_mask = np.zeros_like(mask)\n",
    "        new_mask[mask == i] = 255\n",
    "        new_mask = np.uint8(new_mask)\n",
    "        new_mask = cv2.resize(new_mask, (640, 480))\n",
    "        contours, _ = cv2.findContours(new_mask, cv2.RETR_EXTERNAL, cv2.CHAIN_APPROX_SIMPLE)\n",
    "        \n",
    "        if len(contours) > 1:\n",
    "            contour = best_contour(contours)\n",
    "            print('more than one', type(contour))\n",
    "            img = cv2.drawContours(img, [contour], -1, color[i], 3)\n",
    "        else:\n",
    "            print(type(contours))\n",
    "            img = cv2.drawContours(img, contours, -1, color[i], 3)\n",
    "    return img\n",
    "'''"
   ]
  },
  {
   "cell_type": "code",
   "execution_count": 8,
   "id": "326a6c9e",
   "metadata": {},
   "outputs": [],
   "source": [
    "dic_label={'forehead':1,'left_cheek':2,'right_cheek':3}\n"
   ]
  },
  {
   "cell_type": "code",
   "execution_count": 9,
   "id": "2c8417b9",
   "metadata": {},
   "outputs": [],
   "source": [
    "color={1:(0,0,255),2:(255,0,0),3:(0,255,0),4:(255,255,0),5:(255,0,255),6:(0,255,255)}\n"
   ]
  },
  {
   "cell_type": "code",
   "execution_count": 10,
   "id": "87fc40cc",
   "metadata": {},
   "outputs": [],
   "source": [
    "\n",
    "v=cv2.VideoCapture(r'C:\\Users\\PhysioSens\\Desktop\\python-jupyter\\ubfc_seg\\aravind.avi')\n",
    "while True:\n",
    "    rect,frame=v.read()\n",
    "    if rect==False:\n",
    "        break\n",
    "    #frame=cv2.resize(frame,(640,480))\n",
    "    #frame=cv2.flip(frame,0)\n",
    "    #frame=frame[:,:,::-1]\n",
    "    img=cuda_img(frame)\n",
    "    with torch.no_grad():\n",
    "        pred=model(img)\n",
    "    pred=pred[0].cpu().detach().numpy()\n",
    "    pred=np.argmax(pred,axis=0)\n",
    "    img_view=view_img(frame,pred)\n",
    "    cv2.imshow('frame',img_view)\n",
    "    key=cv2.waitKey(1)&0XFF\n",
    "    if key==ord('q'):\n",
    "        break\n",
    "    if key==ord('a'):\n",
    "        cv2.imwrite('mode_fist_1_mov.png',img_view)\n",
    "v.release()\n",
    "cv2.destroyAllWindows()\n"
   ]
  },
  {
   "cell_type": "markdown",
   "id": "8d039db8",
   "metadata": {},
   "source": [
    "# with face-mesh"
   ]
  },
  {
   "cell_type": "code",
   "execution_count": 30,
   "id": "69f8d0a9",
   "metadata": {},
   "outputs": [],
   "source": [
    "#pip install mediapipe\n",
    "import cv2\n",
    "import mediapipe as mp\n",
    "import time\n",
    "import matplotlib.pyplot as plt\n",
    "import numpy as np\n"
   ]
  },
  {
   "cell_type": "code",
   "execution_count": 31,
   "id": "8adcb1b8",
   "metadata": {},
   "outputs": [],
   "source": [
    "def view_img(img,mask):\n",
    "    for i in range(1,4):\n",
    "        new_mask=np.zeros_like(mask)\n",
    "        new_mask[mask==i]=255\n",
    "        new_mask=np.uint8(new_mask)\n",
    "        new_mask=cv2.resize(new_mask,(640,480))\n",
    "        contour,_=cv2.findContours(new_mask,cv2.RETR_EXTERNAL,cv2.CHAIN_APPROX_SIMPLE)\n",
    "        if len(contour)>1:\n",
    "            contour=best_contour(contour)\n",
    "            img=cv2.drawContours(img,[contour],-1,color[i],cv2.FILLED)\n",
    "        else:\n",
    "            img=cv2.drawContours(img,contour,-1,color[i],cv2.FILLED)\n",
    "    return img\n",
    "def cuda_img(img):\n",
    "    img=cv2.resize(img,(224,224))\n",
    "    img=np.transpose(img,(2,0,1))\n",
    "    img=img/255\n",
    "    img=torch.tensor(img)\n",
    "    img=img.float()\n",
    "    img=img.unsqueeze(0)\n",
    "    img=img.to('cuda')\n",
    "    return img\n",
    "\n",
    "def best_contour(contours):\n",
    "    Area=[]\n",
    "    for contour in contours:\n",
    "        Area.append(cv2.contourArea(contour))\n",
    "    return contours[np.argmax(Area)]\n"
   ]
  },
  {
   "cell_type": "code",
   "execution_count": null,
   "id": "9a8a107c",
   "metadata": {},
   "outputs": [],
   "source": []
  },
  {
   "cell_type": "code",
   "execution_count": 67,
   "id": "7e191e00",
   "metadata": {},
   "outputs": [],
   "source": [
    "mpDraw = mp.solutions.drawing_utils\n",
    "mpFaceMesh = mp.solutions.face_mesh\n",
    "faceMesh = mpFaceMesh.FaceMesh(max_num_faces=1)\n",
    "drawSpec = mpDraw.DrawingSpec(thickness=1, circle_radius=1,color=(0,128,0))\n",
    "num1=[10]\n",
    "num2=[50,280]\n",
    "v=cv2.VideoCapture(r'C:\\Users\\PhysioSens\\Desktop\\python-jupyter\\ubfc_seg\\aravind.avi')\n",
    "while True:\n",
    "    rect,frame=v.read()\n",
    "    if rect==False:\n",
    "        break\n",
    "\n",
    "    img=cuda_img(frame)\n",
    "    with torch.no_grad():\n",
    "        pred=model(img)\n",
    "    \n",
    "    pred=pred[0].cpu().detach().numpy()\n",
    "    pred=np.argmax(pred,axis=0)\n",
    "       \n",
    "    #img_view=view_img(frame.copy(),pred)\n",
    "    img_view=frame.copy()\n",
    "    \n",
    "    imgRGB = cv2.cvtColor(frame, cv2.COLOR_BGR2RGB)\n",
    "    results = faceMesh.process(imgRGB)\n",
    "    face=[]\n",
    "    if results.multi_face_landmarks:\n",
    "        for faceLms in results.multi_face_landmarks:\n",
    "            for id,lm in enumerate(faceLms.landmark):\n",
    "                ih, iw, ic = frame.shape\n",
    "                x,y = int(lm.x*iw), int(lm.y*ih)\n",
    "                face.append((x,y))\n",
    "                if id in num1:\n",
    "                    cv2.rectangle(img_view,(face[id][0]-60,face[id][1]-25),(face[id][0]+60,face[id][1]+25),(0,0,0),4)\n",
    "                if id in num2:\n",
    "                    cv2.rectangle(img_view,(face[id][0]-25,face[id][1]-25),(face[id][0]+25,face[id][1]+25),(0,0,0),4)\n",
    "    else:\n",
    "        print('no')\n",
    "    cv2.imshow('frame',img_view)\n",
    "    key=cv2.waitKey(1)&0XFF\n",
    "    if key==ord('q'):\n",
    "        break\n",
    "    \n",
    "    if key==ord('a'):\n",
    "        cv2.imwrite('model_fist_mov.png',img_view)\n",
    "v.release()\n",
    "cv2.destroyAllWindows()\n"
   ]
  },
  {
   "cell_type": "code",
   "execution_count": 71,
   "id": "9cea6679",
   "metadata": {},
   "outputs": [
    {
     "data": {
      "image/png": "[encoded data removed]",
      "text/plain": [
       "<Figure size 640x480 with 1 Axes>"
      ]
     },
     "metadata": {},
     "output_type": "display_data"
    }
   ],
   "source": [
    "plt.imshow(pred)\n",
    "plt.axis('off')\n",
    "plt.savefig('model_mask.png')"
   ]
  },
  {
   "cell_type": "code",
   "execution_count": null,
   "id": "a46208af",
   "metadata": {},
   "outputs": [],
   "source": []
  },
  {
   "cell_type": "code",
   "execution_count": 22,
   "id": "d1c44a52",
   "metadata": {},
   "outputs": [],
   "source": [
    "cv2.destroyAllWindows()"
   ]
  },
  {
   "cell_type": "code",
   "execution_count": 21,
   "id": "efadf6d0",
   "metadata": {},
   "outputs": [
    {
     "data": {
      "text/plain": [
       "<matplotlib.image.AxesImage at 0x1ed1ef29eb0>"
      ]
     },
     "execution_count": 21,
     "metadata": {},
     "output_type": "execute_result"
    },
    {
     "data": {
      "image/png": "[encoded data removed]",
      "text/plain": [
       "<Figure size 640x480 with 1 Axes>"
      ]
     },
     "metadata": {},
     "output_type": "display_data"
    }
   ],
   "source": [
    "plt.imshow(pred,cmap='jet')"
   ]
  },
  {
   "cell_type": "code",
   "execution_count": 33,
   "id": "e492acdb",
   "metadata": {},
   "outputs": [
    {
     "data": {
      "text/plain": [
       "array([  0,  40,  80, 120, 160, 200, 240], dtype=uint8)"
      ]
     },
     "execution_count": 33,
     "metadata": {},
     "output_type": "execute_result"
    }
   ],
   "source": [
    "np.unique(pred)"
   ]
  },
  {
   "cell_type": "code",
   "execution_count": null,
   "id": "9e8e965e",
   "metadata": {},
   "outputs": [],
   "source": []
  }
 ],
 "metadata": {
  "kernelspec": {
   "display_name": "Python 3 (ipykernel)",
   "language": "python",
   "name": "python3"
  },
  "language_info": {
   "codemirror_mode": {
    "name": "ipython",
    "version": 3
   },
   "file_extension": ".py",
   "mimetype": "text/x-python",
   "name": "python",
   "nbconvert_exporter": "python",
   "pygments_lexer": "ipython3",
   "version": "3.9.13"
  }
 },
 "nbformat": 4,
 "nbformat_minor": 5
}
