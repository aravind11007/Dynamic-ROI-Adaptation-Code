{
 "cells": [
  {
   "cell_type": "code",
   "execution_count": 2,
   "id": "7778e042",
   "metadata": {},
   "outputs": [],
   "source": [
    "import cv2\n",
    "import numpy as np\n",
    "import os\n",
    "import mediapipe as mp"
   ]
  },
  {
   "cell_type": "code",
   "execution_count": 9,
   "id": "f97cf51f",
   "metadata": {},
   "outputs": [
    {
     "name": "stdout",
     "output_type": "stream",
     "text": [
      "saved\n",
      "saved\n",
      "saved\n",
      "saved\n",
      "saved\n",
      "saved\n",
      "saved\n",
      "saved\n",
      "saved\n",
      "saved\n",
      "saved\n",
      "saved\n",
      "saved\n",
      "saved\n"
     ]
    }
   ],
   "source": [
    "filename=r'C:\\Users\\PhysioSens\\Desktop\\python-jupyter\\ubfc_seg\\bhaskar.avi'\n",
    "save_path=r'D:\\DL_DATA\\ubfc_seg\\lab\\data'\n",
    "name='bhasker'\n",
    "v=cv2.VideoCapture(filename)\n",
    "count=0\n",
    "while True:\n",
    "    rect,frame=v.read()\n",
    "    if rect==False:\n",
    "        break\n",
    "    cv2.imshow('frame',frame)\n",
    "    key=cv2.waitKey(1)&0XFF\n",
    "    if key==ord('q'):\n",
    "        break\n",
    "    if key==ord('a'):\n",
    "        print('saved')\n",
    "        cv2.imwrite(os.path.join(save_path,f'{name}_{count}.png'),frame)\n",
    "        count+=1\n",
    "v.release()\n",
    "cv2.destroyAllWindows()"
   ]
  }
 ],
 "metadata": {
  "kernelspec": {
   "display_name": "Python 3 (ipykernel)",
   "language": "python",
   "name": "python3"
  },
  "language_info": {
   "codemirror_mode": {
    "name": "ipython",
    "version": 3
   },
   "file_extension": ".py",
   "mimetype": "text/x-python",
   "name": "python",
   "nbconvert_exporter": "python",
   "pygments_lexer": "ipython3",
   "version": "3.9.13"
  }
 },
 "nbformat": 4,
 "nbformat_minor": 5
}
